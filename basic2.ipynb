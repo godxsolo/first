{
 "cells": [
  {
   "cell_type": "markdown",
   "metadata": {},
   "source": [
    "# FUNTION 涵式 "
   ]
  },
  {
   "cell_type": "code",
   "execution_count": 1,
   "metadata": {},
   "outputs": [
    {
     "name": "stdout",
     "output_type": "stream",
     "text": [
      "hola\n"
     ]
    }
   ],
   "source": [
    "def greet(lang):\n",
    "    if lang==\"es\":\n",
    "        print(\"hola\")\n",
    "    elif lang==\"ex\":\n",
    "        print(\"oh mygod\")\n",
    "    else :\n",
    "        print(\"done\")\n",
    "greet(\"es\")"
   ]
  },
  {
   "cell_type": "code",
   "execution_count": 3,
   "metadata": {},
   "outputs": [
    {
     "name": "stdout",
     "output_type": "stream",
     "text": [
      "10\n",
      "20\n"
     ]
    }
   ],
   "source": [
    "def func(x) :\n",
    "    print(x)\n",
    "\n",
    "func(10)\n",
    "func(20)"
   ]
  },
  {
   "cell_type": "code",
   "execution_count": 8,
   "metadata": {},
   "outputs": [
    {
     "name": "stdout",
     "output_type": "stream",
     "text": [
      "5\n"
     ]
    }
   ],
   "source": [
    "def addtwo(a, b):\n",
    "    added = a + b\n",
    "    return a      # return added    結果會變a+b\n",
    "\n",
    "x = addtwo(5, 7)\n",
    "print(x)"
   ]
  },
  {
   "cell_type": "markdown",
   "metadata": {},
   "source": [
    "# loop"
   ]
  },
  {
   "cell_type": "code",
   "execution_count": 10,
   "metadata": {},
   "outputs": [
    {
     "name": "stdout",
     "output_type": "stream",
     "text": [
      "5\n",
      "4\n",
      "3\n",
      "2\n",
      "1\n"
     ]
    }
   ],
   "source": [
    "for i in [5,4,3,2,1]:\n",
    "    print (i) "
   ]
  },
  {
   "cell_type": "code",
   "execution_count": 15,
   "metadata": {},
   "outputs": [
    {
     "name": "stdout",
     "output_type": "stream",
     "text": [
      "happy new year tom\n",
      "happy new year ariel\n",
      "happy new year sally\n",
      "done\n"
     ]
    }
   ],
   "source": [
    "#Strings\n",
    "friends = [\"tom\",\"ariel\",\"sally\"]\n",
    "for friend in friends:\n",
    "    print(\"happy new year \"+ friend )\n",
    "print(\"done\")"
   ]
  },
  {
   "cell_type": "markdown",
   "metadata": {},
   "source": [
    "# 比大小"
   ]
  },
  {
   "cell_type": "code",
   "execution_count": 18,
   "metadata": {},
   "outputs": [
    {
     "name": "stdout",
     "output_type": "stream",
     "text": [
      "before -1\n",
      "11 11\n",
      "55 55\n",
      "99 99\n",
      "after 99\n"
     ]
    }
   ],
   "source": [
    "large = -1\n",
    "print ('before',large)\n",
    "for text in [11,55,22,33,44,99,48,56]:\n",
    "    if text>large:\n",
    "        large=text\n",
    "        print(large,text)\n",
    "print('after',large)"
   ]
  },
  {
   "cell_type": "markdown",
   "metadata": {},
   "source": [
    "# 計數器 "
   ]
  },
  {
   "cell_type": "code",
   "execution_count": 25,
   "metadata": {},
   "outputs": [
    {
     "name": "stdout",
     "output_type": "stream",
     "text": [
      "before 0\n",
      "after 9\n"
     ]
    }
   ],
   "source": [
    "zork=0\n",
    "print(\"before\",zork)\n",
    "for thing in [1,2,3,4,5,77,88,99,44]: #共9個\n",
    "    zork = zork+1\n",
    "    #print(zork,thing)\n",
    "print(\"after\",zork)\n"
   ]
  },
  {
   "cell_type": "markdown",
   "metadata": {},
   "source": [
    "# 平均值"
   ]
  },
  {
   "cell_type": "code",
   "execution_count": 32,
   "metadata": {},
   "outputs": [
    {
     "name": "stdout",
     "output_type": "stream",
     "text": [
      "before 0 0\n",
      "1 9 9.0\n",
      "2 50 25.0\n",
      "3 62 20.666666666666668\n",
      "4 65 16.25\n",
      "5 139 27.8\n",
      "6 154 25.666666666666668\n"
     ]
    }
   ],
   "source": [
    "count = 0\n",
    "sum = 0\n",
    "print (\"before\",count,sum)\n",
    "for value in [9,41,12,3,74,15] :\n",
    "    count = count+1\n",
    "    sum = sum+value\n",
    "    print(count,sum,sum/count)"
   ]
  },
  {
   "cell_type": "markdown",
   "metadata": {},
   "source": [
    "# boolean 布林值 None空值"
   ]
  },
  {
   "cell_type": "code",
   "execution_count": 36,
   "metadata": {},
   "outputs": [
    {
     "name": "stdout",
     "output_type": "stream",
     "text": [
      "before False\n",
      "False 9\n",
      "False 41\n",
      "False 12\n",
      "after True\n"
     ]
    }
   ],
   "source": [
    "found = False\n",
    "print(\"before\",found)\n",
    "for value in [9,41,12,3,74,15]:\n",
    "    if value == 3:\n",
    "        found = True\n",
    "        break\n",
    "    print(found,value)\n",
    "print(\"after\",found)"
   ]
  },
  {
   "cell_type": "code",
   "execution_count": 45,
   "metadata": {},
   "outputs": [
    {
     "name": "stdout",
     "output_type": "stream",
     "text": [
      "5\n"
     ]
    }
   ],
   "source": [
    "tot = 0 \n",
    "for i in [5, 4, 3, 2, 1] :\n",
    "    tot = tot + 1\n",
    "print(tot)"
   ]
  },
  {
   "cell_type": "code",
   "execution_count": null,
   "metadata": {},
   "outputs": [],
   "source": []
  },
  {
   "cell_type": "code",
   "execution_count": null,
   "metadata": {},
   "outputs": [],
   "source": []
  }
 ],
 "metadata": {
  "kernelspec": {
   "display_name": "Python 3",
   "language": "python",
   "name": "python3"
  }
 },
 "nbformat": 4,
 "nbformat_minor": 4
}
